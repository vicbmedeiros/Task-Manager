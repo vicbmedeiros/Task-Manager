{
 "cells": [
  {
   "cell_type": "code",
   "execution_count": 44,
   "id": "035c3417",
   "metadata": {},
   "outputs": [],
   "source": [
    "import sys\n",
    "\n",
    "def show_menu():\n",
    "    print(\"To do list\")\n",
    "    print(\"1. Add a task\")\n",
    "    print(\"2. View tasks\")\n",
    "    print(\"3. Mark task as completed\")\n",
    "    print(\"4. Delete task\")\n",
    "    print(\"5. Exit\")\n",
    "\n",
    "def add_task():\n",
    "    task = input (\"Enter a new task: \")\n",
    "    tasks.append(task)\n",
    "    print (\"Task added sucessfully!\")\n",
    "    \n",
    "def view_tasks():\n",
    "    print(tasks)\n",
    "\n",
    "def mark_complete():\n",
    "    complete = int(input(\"Enter de task you want to complete: \"))\n",
    "    if (complete-1) < len(tasks):\n",
    "        tasks.pop(complete-1)\n",
    "    else:\n",
    "        print(\"Invalid task\")\n",
    "\n",
    "def delete_task():\n",
    "    delete = int(input(\"Enter de task you want to delete: \"))\n",
    "    if (delete-1) < len(tasks):\n",
    "        tasks.pop(delete-1)\n",
    "    else:\n",
    "        print(\"Invalid task\")\n"
   ]
  },
  {
   "cell_type": "code",
   "execution_count": 48,
   "id": "831b87d0",
   "metadata": {},
   "outputs": [],
   "source": [
    "def item_choice():\n",
    "    item = 'WRONG'\n",
    "    while item.isdigit() == False and item != (1,2,3,4,5):\n",
    "        item = input(\"What option do you want from menu:\")\n",
    "        if item.isdigit() == False and item != (1,2,3,4,5):\n",
    "            print(\"This is not a digit and not between 1-5, try again:\")\n",
    "    return int(item) "
   ]
  },
  {
   "cell_type": "code",
   "execution_count": 49,
   "id": "d8ae0dc6",
   "metadata": {},
   "outputs": [
    {
     "name": "stdout",
     "output_type": "stream",
     "text": [
      "To do list\n",
      "1. Add a task\n",
      "2. View tasks\n",
      "3. Mark task as completed\n",
      "4. Delete task\n",
      "5. Exit\n",
      "What option do you want from menu:5\n",
      "Exiting the menu\n"
     ]
    }
   ],
   "source": [
    "show_menu()\n",
    "tasks = []\n",
    "\n",
    "while True: \n",
    "    \n",
    "    item = item_choice()\n",
    "    \n",
    "    if item == 1:\n",
    "        add_task()\n",
    "        \n",
    "    elif item == 2:\n",
    "        view_tasks()\n",
    "        \n",
    "    elif item ==3:\n",
    "        mark_complete()\n",
    "        \n",
    "    elif item == 4:\n",
    "        delete_task()\n",
    "        \n",
    "    elif item == 5:\n",
    "        print(\"Exiting the menu\")\n",
    "        break\n",
    "        \n",
    "    else:\n",
    "        pass\n",
    "    "
   ]
  },
  {
   "cell_type": "code",
   "execution_count": null,
   "id": "65eeeecb",
   "metadata": {},
   "outputs": [],
   "source": []
  },
  {
   "cell_type": "code",
   "execution_count": null,
   "id": "07ea75dc",
   "metadata": {},
   "outputs": [],
   "source": []
  }
 ],
 "metadata": {
  "kernelspec": {
   "display_name": "Python 3 (ipykernel)",
   "language": "python",
   "name": "python3"
  },
  "language_info": {
   "codemirror_mode": {
    "name": "ipython",
    "version": 3
   },
   "file_extension": ".py",
   "mimetype": "text/x-python",
   "name": "python",
   "nbconvert_exporter": "python",
   "pygments_lexer": "ipython3",
   "version": "3.11.5"
  }
 },
 "nbformat": 4,
 "nbformat_minor": 5
}
